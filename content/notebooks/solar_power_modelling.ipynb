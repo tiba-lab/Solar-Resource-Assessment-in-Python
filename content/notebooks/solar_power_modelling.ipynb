{
 "cells": [
  {
   "cell_type": "markdown",
   "metadata": {},
   "source": [
    "# Solar Power Modelling\n",
    "\n",
    "\n",
    "The conversion of **solar irradiance to electric power output** as observed in photovoltaic (PV) systems is covered in this chapter of [*AssessingSolar.org*](https://assessingsolar.org/). Other chapters facilitate best practices in how to obtain solar radiation data, how to apply certain quality checks to the data or how to manipulate and assess timeseries of solar data for solar resource assessment. However, for PV applications it is important that we consider the conversion from irradiance to power output occuring between the different components of a PV system and of the PV system as a whole. \n",
    "\n",
    "The several sections of this chapter aim to illustrate the conversion from irradiance to power step by step:\n",
    "- [1 Defining PV system components;](#CharacteristicsPV)\n",
    "- [2 I-V characteristic curve;](#IVcurve)\n",
    "- [3 Irradiance to DC power conversion;](#DCmodels)\n",
    "- [4 DC to AC power conversion (inverter models);](#inverter)\n",
    "- [5 Whole System Irradiance to Power Conversion.](#fullsystem)\n",
    "\n",
    "The code in this chapter is mainly based on the Python libraries [*pvlib*](https://pvlib-python.readthedocs.io/en/stable/) and other general purpose libraries, such as [*numpy*](https://numpy.org/), [*pandas*](https://pandas.pydata.org/) and [*matplotlib*](https://matplotlib.org/).\n",
    "\n",
    "***\n",
    "<div style=\"text-align: right\"> <i>Content by Javier Lopez Lorente</i> </div>"
   ]
  },
  {
   "cell_type": "markdown",
   "metadata": {},
   "source": [
    "## 1 Defining PV System Components <a id='CharacteristicsPV'></a>\n",
    "\n",
    "In this section we cover how to define or obtain the different characteristics and specifications of several components of PV systems, such as PV modules and PV inverters. These components can be defined manually, for example, in Python dictionary or can be retrieved from existing databases.\n",
    "\n",
    "### Definition of PV module\n",
    "\n",
    "The characteristics of PV modules in Python can be retrieved by using *pvlib*. The 2 main databases for PV modules that can be imported are: (1) the Sandia Laboratories PV module database; and (2) the CEC PV module database. Below, we present an example to how the databases can be accessed."
   ]
  },
  {
   "cell_type": "code",
   "execution_count": 1,
   "metadata": {},
   "outputs": [
    {
     "name": "stdout",
     "output_type": "stream",
     "text": [
      "(25, 21535)\n"
     ]
    }
   ],
   "source": [
    "# Import the particular module of the pvlib library\n",
    "from pvlib import pvsystem\n",
    "\n",
    "# CEC PV Module Database\n",
    "cec_mod_db = pvsystem.retrieve_sam('CECmod')\n",
    "\n",
    "# Size of the database\n",
    "print(cec_mod_db.shape)"
   ]
  },
  {
   "cell_type": "markdown",
   "metadata": {},
   "source": [
    "There are over 21,500 modules in that version of the CEC PV module database. Each module has 25 parameters that are technical information of the module and metadata. The database is returned as a pandas DataFrame, so each of the modules can be accessed with integer-location based indexing using *iloc*. Let's have a look to the parameters of one of them selected randomly:\n"
   ]
  },
  {
   "cell_type": "code",
   "execution_count": 2,
   "metadata": {},
   "outputs": [
    {
     "name": "stdout",
     "output_type": "stream",
     "text": [
      "Technology            Mono-c-Si\n",
      "Bifacial                      0\n",
      "STC                     184.702\n",
      "PTC                       160.2\n",
      "A_c                         1.3\n",
      "Length                    1.576\n",
      "Width                     0.825\n",
      "N_s                          72\n",
      "I_sc_ref                   5.43\n",
      "V_oc_ref                  44.14\n",
      "I_mp_ref                   5.03\n",
      "V_mp_ref                  36.72\n",
      "alpha_sc               0.002253\n",
      "beta_oc                -0.15961\n",
      "T_NOCT                     49.9\n",
      "a_ref                   1.98482\n",
      "I_L_ref                 5.43568\n",
      "I_o_ref             1.16164e-09\n",
      "R_s                    0.311962\n",
      "R_sh_ref                298.424\n",
      "Adjust                  15.6882\n",
      "gamma_r                 -0.5072\n",
      "BIPV                          N\n",
      "Version       SAM 2018.11.11 r2\n",
      "Date                   1/3/2019\n",
      "Name: A10Green_Technology_A10J_S72_185, dtype: object\n"
     ]
    }
   ],
   "source": [
    "import numpy as np\n",
    "print(cec_mod_db.iloc[:, np.random.randint(0, high=len(cec_mod_db))])"
   ]
  },
  {
   "cell_type": "markdown",
   "metadata": {},
   "source": [
    "The parameters of the CEC database include technology (*string*), bifacial (*boolean*), STC power (*float*), PTC power (*float*), dimensions of the panel, open-circuit and short-circuit specifications, and other technical characteristics including the 5-parameter needed for the single diode equation to estimate the DC power under certain conditions. "
   ]
  },
  {
   "cell_type": "markdown",
   "metadata": {},
   "source": [
    "Similarly, the Sandia Laboratories PV module database can be accessed:"
   ]
  },
  {
   "cell_type": "code",
   "execution_count": 3,
   "metadata": {},
   "outputs": [
    {
     "name": "stdout",
     "output_type": "stream",
     "text": [
      "(42, 523)\n"
     ]
    }
   ],
   "source": [
    "# Sandia PV Module Database\n",
    "sandia_mod_db = pvsystem.retrieve_sam('sandiamod')\n",
    "\n",
    "# Dimensions\n",
    "print(sandia_mod_db.shape)\n"
   ]
  },
  {
   "cell_type": "code",
   "execution_count": 4,
   "metadata": {},
   "outputs": [
    {
     "name": "stdout",
     "output_type": "stream",
     "text": [
      "Vintage                                                      2002 (E)\n",
      "Area                                                            0.657\n",
      "Material                                                      Si-Film\n",
      "Cells_in_Series                                                    39\n",
      "Parallel_Strings                                                    1\n",
      "Isco                                                              3.4\n",
      "Voco                                                             20.7\n",
      "Impo                                                                3\n",
      "Vmpo                                                             16.8\n",
      "Aisc                                                         0.000552\n",
      "Aimp                                                         0.000216\n",
      "C0                                                              0.951\n",
      "C1                                                              0.049\n",
      "Bvoco                                                          -0.098\n",
      "Mbvoc                                                               0\n",
      "Bvmpo                                                          -0.093\n",
      "Mbvmp                                                               0\n",
      "N                                                               1.851\n",
      "C2                                                            0.37957\n",
      "C3                                                            -6.5492\n",
      "A0                                                              0.928\n",
      "A1                                                           0.073144\n",
      "A2                                                          -0.019427\n",
      "A3                                                          0.0017513\n",
      "A4                                                        -5.1288e-05\n",
      "B0                                                                  1\n",
      "B1                                                          -0.002438\n",
      "B2                                                          0.0003103\n",
      "B3                                                         -1.246e-05\n",
      "B4                                                           2.11e-07\n",
      "B5                                                          -1.36e-09\n",
      "DTC                                                                 3\n",
      "FD                                                                  1\n",
      "A                                                               -3.56\n",
      "B                                                              -0.075\n",
      "C4                                                              0.992\n",
      "C5                                                              0.008\n",
      "IXO                                                              3.38\n",
      "IXXO                                                              1.9\n",
      "C6                                                              1.032\n",
      "C7                                                             -0.032\n",
      "Notes               Source: Sandia National Laboratories Updated 9...\n",
      "Name: AstroPower_APX_50__2002__E__, dtype: object\n"
     ]
    }
   ],
   "source": [
    "# Accessing the characteristics of one of the modules randomly\n",
    "print(sandia_mod_db.iloc[:, np.random.randint(0, high=len(sandia_mod_db))])"
   ]
  },
  {
   "cell_type": "markdown",
   "metadata": {},
   "source": [
    "We observe that the database of PV modules from Sandia Laboratories includes more technical parameters and information than the CEC module database. However, it contains less modules. Alternatively, you can define a dictionary with the characteristics of the PV module as found in a typical datasheet."
   ]
  },
  {
   "cell_type": "code",
   "execution_count": 5,
   "metadata": {},
   "outputs": [],
   "source": [
    "# PV module data from a typical datasheet (e.g. Kyocera Solar KD225GX LPB)\n",
    "module_data = {'celltype': 'multiSi', # technology\n",
    "               'STC': 224.99, # STC power\n",
    "               'PTC': 203.3, # PTC power\n",
    "               'v_mp': 29.8, # Maximum power voltage\n",
    "               'i_mp': 7.55, # Maximum power current\n",
    "               'v_oc': 36.9, # Open-circuit voltage\n",
    "               'i_sc': 8.18, # Short-circuit current\n",
    "               'alpha_sc': 0.001636, # Temperature Coeff. Short Circuit Current [A/C]\n",
    "               'beta_voc': -0.12177, # Temperature Coeff. Open Circuit Voltage [V/C]\n",
    "               'gamma_pmp': -0.43, # Temperature coefficient of power at maximum point [%/C]\n",
    "               'cells_in_series': 60, # Number of cells in series\n",
    "               'temp_ref': 25}  # Reference temperature conditions"
   ]
  },
  {
   "cell_type": "markdown",
   "metadata": {},
   "source": [
    "### Definition of a PV inverter\n",
    "\n",
    "Similarly to the database of PV modules, it is possible to access the CEC database of PV inverters."
   ]
  },
  {
   "cell_type": "code",
   "execution_count": 6,
   "metadata": {},
   "outputs": [
    {
     "name": "stdout",
     "output_type": "stream",
     "text": [
      "(16, 3264)\n"
     ]
    }
   ],
   "source": [
    "invdb = pvsystem.retrieve_sam('CECInverter')\n",
    "print(invdb.shape)"
   ]
  },
  {
   "cell_type": "markdown",
   "metadata": {},
   "source": [
    "There over 3,200 inverters available and each of them has 16 parameters. As in the case of the PV modules, you can define your own PV inverter using a dictionary. Let's have a look to one of those solar inverters."
   ]
  },
  {
   "cell_type": "code",
   "execution_count": 7,
   "metadata": {},
   "outputs": [
    {
     "name": "stdout",
     "output_type": "stream",
     "text": [
      "Vac                          208\n",
      "Pso                      1.76944\n",
      "Paco                         300\n",
      "Pdco                     312.421\n",
      "Vdco                          45\n",
      "C0                      -4.5e-05\n",
      "C1                     -0.000196\n",
      "C2                      0.001959\n",
      "C3                     -0.023725\n",
      "Pnt                         0.09\n",
      "Vdcmax                        60\n",
      "Idcmax                   6.94269\n",
      "Mppt_low                      30\n",
      "Mppt_high                     60\n",
      "CEC_Date                     NaN\n",
      "CEC_Type     Utility Interactive\n",
      "Name: ABB__MICRO_0_3HV_I_OUTD_US_208__208V_, dtype: object\n"
     ]
    }
   ],
   "source": [
    "# Accessing the characteristics of one of the modules randomly\n",
    "inverter_data = invdb.iloc[:, np.random.randint(0, high=len(invdb))]\n",
    "\n",
    "print(inverter_data)"
   ]
  },
  {
   "cell_type": "markdown",
   "metadata": {},
   "source": [
    "## 2 I-V Characteristic Curve <a id='IVcurve'></a>\n",
    "\n",
    "The I-V curve of a PV module is one of the typical technical characteristics often available in datasheets. In this section, we are going to build the I-V characteristic curve of a PV module from the data available in the technical specification sheet. We will use the dictionary *'module_data'* that we have just created in the previous section.\n",
    "\n",
    "In order to build the I-V curve, we will need several steps until we estimate the 5 input parameters needed to perform the single diode equation that will return the I and V values for given values of effective irradiance and cell/module temperature."
   ]
  },
  {
   "cell_type": "code",
   "execution_count": 8,
   "metadata": {},
   "outputs": [],
   "source": [
    "# Import the pvlib library\n",
    "import pvlib"
   ]
  },
  {
   "cell_type": "code",
   "execution_count": 9,
   "metadata": {},
   "outputs": [
    {
     "name": "stdout",
     "output_type": "stream",
     "text": [
      "(8.202934970033095, 1.0116474533318072e-10, 0.35799019877176264, 127.68099994564776, 1.471122011098777, 1.0522774079781079)\n"
     ]
    }
   ],
   "source": [
    "# 1st step: Estimating the parameters for the CEC single diode model\n",
    "\"\"\" WARNING - This function relies on NREL's SAM tool. So PySAM, its Python API, needs to be installed \n",
    "in the same computer. Otherwise, you can expect the following error: 'ImportError if NREL-PySAM is not installed.'\n",
    "\"\"\"\n",
    "cec_fit_params = pvlib.ivtools.sdm.fit_cec_sam(module_data['celltype'], module_data['v_mp'], module_data['i_mp'],\n",
    "                                  module_data['v_oc'], module_data['i_sc'], module_data['alpha_sc'],\n",
    "                                  module_data['beta_voc'], module_data['gamma_pmp'], \n",
    "                                  module_data['cells_in_series'], module_data['temp_ref'])\n",
    "\n",
    "# Let's have a look to the output\n",
    "print(cec_fit_params)"
   ]
  },
  {
   "cell_type": "markdown",
   "metadata": {},
   "source": [
    "We observe that the output of the function are 6 *float* elements. The documentation of *pvlib* indicates that these correspond to reference conditions values for:\n",
    "\n",
    "1. Light-generated current (i_l_ref) in Amps;\n",
    "2. Diode reverse saturation current (i_o_ref) in Amps;\n",
    "3. Series resistance (r_s) in Ohms;\n",
    "4. Shunt resistance (r_sh_ref) in Ohms;\n",
    "5. The product of the diode ideality factor, number of cells in series and cell thermal voltage (a_ref); and\n",
    "6. The adjustment to the temperature coefficient for short-circuit current in percentage (adjust).\n",
    "\n",
    "After this step, we have an extended set of technical characteristics of the PV module. We could skip this step if we had these data at the beginning, e.g. by using a PV module from the CEC or Sandia databases.  \n",
    "\n",
    "\n",
    "We will now define several reference conditions of effective irradiance and average cell temperature values for which to estimate the I-V curve. Then, the second step is estimating the 5 input parameters to be used in the Single Diode Equation:"
   ]
  },
  {
   "cell_type": "code",
   "execution_count": 10,
   "metadata": {},
   "outputs": [
    {
     "name": "stdout",
     "output_type": "stream",
     "text": [
      "Number of elements returned:  5\n"
     ]
    }
   ],
   "source": [
    "# Effective irradiance values (W/m2)\n",
    "irrad = np.array([200,400,600,800,1000])\n",
    "# Average cell temperature (degrees Celsius)\n",
    "temp_cell = np.array([40, 40, 40, 40, 40])\n",
    "\n",
    "# 2nd step: Apply model to estimate the 5 parameters of the single diode equation using the CEC model\n",
    "diode_params = pvlib.pvsystem.calcparams_cec(irrad, temp_cell, module_data['alpha_sc'], cec_fit_params[4], \n",
    "                                            cec_fit_params[0], cec_fit_params[1], cec_fit_params[3], \n",
    "                                            cec_fit_params[2], cec_fit_params[5])\n",
    "\n",
    "# The result of the function returns a Tuple of 5 parameters to be used in the single diode equation\n",
    "print('Number of elements returned: ', len(diode_params))"
   ]
  },
  {
   "cell_type": "code",
   "execution_count": 11,
   "metadata": {},
   "outputs": [
    {
     "name": "stdout",
     "output_type": "stream",
     "text": [
      "(array([1.64544335, 3.2908867 , 4.93633004, 6.58177339, 8.22721674]), array([1.1196491e-09, 1.1196491e-09, 1.1196491e-09, 1.1196491e-09,\n",
      "       1.1196491e-09]), 0.35799019877176264, array([638.40499973, 319.20249986, 212.80166658, 159.60124993,\n",
      "       127.68099995]), array([1.54513452, 1.54513452, 1.54513452, 1.54513452, 1.54513452]))\n"
     ]
    }
   ],
   "source": [
    "# Let's have a look to the tuple:\n",
    "print(diode_params)"
   ]
  },
  {
   "cell_type": "markdown",
   "metadata": {},
   "source": [
    "Finally, we can estimate the **I-V characteristic of the PV module**:"
   ]
  },
  {
   "cell_type": "code",
   "execution_count": 12,
   "metadata": {},
   "outputs": [
    {
     "name": "stdout",
     "output_type": "stream",
     "text": [
      "odict_keys(['i_sc', 'v_oc', 'i_mp', 'v_mp', 'p_mp', 'i_x', 'i_xx', 'v', 'i'])\n"
     ]
    }
   ],
   "source": [
    "# Estimate I-V characteristic using the Single Diode Equation\n",
    "iv_values1 = pvlib.pvsystem.singlediode(diode_params[0], \n",
    "                                        diode_params[1], \n",
    "                                        diode_params[2], \n",
    "                                        diode_params[3], \n",
    "                                        diode_params[4], \n",
    "                                        ivcurve_pnts=25,   # Number of points of the I-V curve (equally distributed)\n",
    "                                        method='lambertw') # I-V using the Lambert W. function\n",
    "\n",
    "# The result is a large ordered dictionary with the IV-curve characteristics of our example.\n",
    "print(iv_values1.keys())"
   ]
  },
  {
   "cell_type": "markdown",
   "metadata": {},
   "source": [
    "We can then visualize the I-V characteristic of our PV module and the given reference conditions:"
   ]
  },
  {
   "cell_type": "code",
   "execution_count": 14,
   "metadata": {},
   "outputs": [
    {
     "data": {
      "text/plain": [
       "<matplotlib.legend.Legend at 0x298305d7d68>"
      ]
     },
     "execution_count": 14,
     "metadata": {},
     "output_type": "execute_result"
    },
    {
     "data": {
      "image/png": "[encoded data removed]",
      "text/plain": [
       "<Figure size 432x288 with 1 Axes>"
      ]
     },
     "metadata": {
      "needs_background": "light"
     },
     "output_type": "display_data"
    }
   ],
   "source": [
    "\n",
    "# Importing our library for plotting and visualization\n",
    "import matplotlib.pyplot as plt\n",
    "\n",
    "# We iterate over voltage\n",
    "for i in range(len(irrad)):\n",
    "    plt.plot(iv_values1['v'][i], iv_values1['i'][i], label=str(irrad[i])+' W/m$^2$')\n",
    "    plt.scatter(iv_values1['v_mp'][i], iv_values1['i_mp'][i])\n",
    "# Add the title, axis labels and legend: \n",
    "plt.title('I-V characteristic curve with maximum power at 40$^\\circ$C')\n",
    "plt.xlabel('Voltage [V]')\n",
    "plt.ylabel('Current [A]')\n",
    "plt.ylim(0, 10)\n",
    "plt.legend(bbox_to_anchor=(1.05, 1), ncol=1)"
   ]
  },
  {
   "cell_type": "markdown",
   "metadata": {},
   "source": [
    "Following on the assessment of the I-V curve of a PV module, it is possible to analyse the *effect of temperature in the PV module performance*. Below, an example of I-V curve is shown for an effective irradiance of 800 W/m$^2$ with different average cell temperatures:\n",
    "\n",
    "\n"
   ]
  },
  {
   "cell_type": "code",
   "execution_count": 15,
   "metadata": {},
   "outputs": [
    {
     "data": {
      "text/plain": [
       "<matplotlib.legend.Legend at 0x298306b7828>"
      ]
     },
     "execution_count": 15,
     "metadata": {},
     "output_type": "execute_result"
    },
    {
     "data": {
      "image/png": "[encoded data removed]",
      "text/plain": [
       "<Figure size 432x288 with 1 Axes>"
      ]
     },
     "metadata": {
      "needs_background": "light"
     },
     "output_type": "display_data"
    }
   ],
   "source": [
    "# Effective irradiance values (W/m2)\n",
    "irrad = np.array([800, 800, 800, 800, 800, 800])\n",
    "# Average cell temperature (degrees Celsius)\n",
    "temp_cell = np.array([10, 20, 30, 40, 50, 60])\n",
    "\n",
    "# Repeating the process from before:\n",
    "# Estimate the 5 parameters of the single diode equation using the CEC model\n",
    "diode_params = pvlib.pvsystem.calcparams_cec(irrad, temp_cell, module_data['alpha_sc'], cec_fit_params[4], \n",
    "                                            cec_fit_params[0], cec_fit_params[1], cec_fit_params[3], \n",
    "                                            cec_fit_params[2], cec_fit_params[5])\n",
    "\n",
    "# Estimate I-V characteristic using the Single Diode Equation\n",
    "iv_values2 = pvlib.pvsystem.singlediode(diode_params[0], \n",
    "                                        diode_params[1], \n",
    "                                        diode_params[2], \n",
    "                                        diode_params[3], \n",
    "                                        diode_params[4], \n",
    "                                        ivcurve_pnts=25,   # Number of points of the I-V curve (equally distributed)\n",
    "                                        method='lambertw') # I-V using the Lambert W. function\n",
    "\n",
    "# Plotting the results\n",
    "for i in range(len(irrad)):\n",
    "    plt.plot(iv_values2['v'][i], iv_values2['i'][i], label=str(temp_cell[i])+'$^\\circ$C')\n",
    "    plt.scatter(iv_values2['v_mp'][i], iv_values2['i_mp'][i])\n",
    "# Add the title, axis labels and legend: \n",
    "plt.title('Effect of module temperature in the I-V curve (800 W/m$^2$)')\n",
    "plt.xlabel('Voltage [V]')\n",
    "plt.ylabel('Current [A]')\n",
    "plt.ylim(0, 7)\n",
    "plt.legend(ncol=1)"
   ]
  },
  {
   "cell_type": "markdown",
   "metadata": {
    "collapsed": true
   },
   "source": [
    "## 3 Irradiance to DC power conversion <a id='DCmodels'></a>\n",
    "\n",
    "The production of DC power output of the PV module given by certain conditions of effective irradiance and cell temperature can be estimated in a straight-away manner by using  NREL’s PVWatts DC power model (*pvwatts_dc*), which is available within *pvlib*. An example is presented below:"
   ]
  },
  {
   "cell_type": "code",
   "execution_count": 16,
   "metadata": {},
   "outputs": [
    {
     "data": {
      "image/png": "[encoded data removed]",
      "text/plain": [
       "<Figure size 432x288 with 2 Axes>"
      ]
     },
     "metadata": {
      "needs_background": "light"
     },
     "output_type": "display_data"
    }
   ],
   "source": [
    "# Randomly define a set of Effective Irradiance and cell temperature values:\n",
    "\n",
    "# Global plane-of-array effective irradiance between 200 and 1000 W/m2\n",
    "g_poa_effective = np.random.uniform(low=200, high=1000, size=(80,))\n",
    "# Mean cell temperature values between 10 and 50 degrees Celsius\n",
    "temp_cell = np.random.uniform(low=10, high=50, size=(80,)) \n",
    "\n",
    "# Definition of PV module characteristics:\n",
    "pdc0 = 250 # STC power\n",
    "gamma_pdc = -0.0045 # The temperature coefficient in units of 1/C\n",
    "\n",
    "# Estimate DC power with PVWatts model\n",
    "dc_power = pvlib.pvsystem.pvwatts_dc(g_poa_effective, temp_cell, pdc0, gamma_pdc, temp_ref=25.0)\n",
    "\n",
    "# Let's visualize the DC power output as function of the effective irradiance\n",
    "plt.scatter(g_poa_effective, dc_power, c=temp_cell, vmin=10, vmax=50, cmap='Reds')\n",
    "cbar = plt.colorbar()\n",
    "cbar.set_label('Cell Temperature [$^\\circ$C]')\n",
    "plt.title('PV Module DC Output vs. Plane-of-Array Irradiance')\n",
    "plt.xlabel('Effective Global Plane-of-Array Irradiance ($G_{POA}$) [W/m$^2$]')\n",
    "plt.ylabel('DC Power Output [W]')\n",
    "plt.show()"
   ]
  },
  {
   "cell_type": "markdown",
   "metadata": {},
   "source": [
    "We can observe the linear relationship between incident effective irradiance and DC power, and how cell temperature has a negative impact on the performance of the PV module. Overall, the lower the module's temperature, the higher the PV output for a given irradiance level."
   ]
  },
  {
   "cell_type": "markdown",
   "metadata": {},
   "source": [
    "## 4 DC to AC power conversion (inverter models) <a id='inverter'></a>\n",
    "\n",
    "Once the DC power is available, the AC power output can be estimated. The inverter is the PV element that implementes the power conversion from DC to AC. An example is shown below where we will use the DataFrame '*inverter_data*' and the dictionary '*iv_values1*' resulted from sections 1 and 2, respectively. \n",
    "\n",
    "Let's recall and have a look to the keys available in those elements:"
   ]
  },
  {
   "cell_type": "code",
   "execution_count": 17,
   "metadata": {},
   "outputs": [
    {
     "data": {
      "text/plain": [
       "Index(['Vac', 'Pso', 'Paco', 'Pdco', 'Vdco', 'C0', 'C1', 'C2', 'C3', 'Pnt',\n",
       "       'Vdcmax', 'Idcmax', 'Mppt_low', 'Mppt_high', 'CEC_Date', 'CEC_Type'],\n",
       "      dtype='object')"
      ]
     },
     "execution_count": 17,
     "metadata": {},
     "output_type": "execute_result"
    }
   ],
   "source": [
    "# The DataFrame with the technical characteristics of the PV inverter\n",
    "inverter_data.keys()"
   ]
  },
  {
   "cell_type": "code",
   "execution_count": 18,
   "metadata": {},
   "outputs": [
    {
     "data": {
      "text/plain": [
       "odict_keys(['i_sc', 'v_oc', 'i_mp', 'v_mp', 'p_mp', 'i_x', 'i_xx', 'v', 'i'])"
      ]
     },
     "execution_count": 18,
     "metadata": {},
     "output_type": "execute_result"
    }
   ],
   "source": [
    "# The dictionary with the current and voltage values\n",
    "iv_values1.keys()"
   ]
  },
  {
   "cell_type": "code",
   "execution_count": 19,
   "metadata": {},
   "outputs": [
    {
     "data": {
      "text/plain": [
       "array([ 39.16721703,  81.25576537, 122.67628941, 163.04035011,\n",
       "       202.17677308])"
      ]
     },
     "execution_count": 19,
     "metadata": {},
     "output_type": "execute_result"
    }
   ],
   "source": [
    "# Estimate AC power from DC power using the Sandia Model\n",
    "ac_power = pvlib.inverter.sandia(iv_values1['v_mp'], # DC voltage input to the inverter\n",
    "                                 iv_values1['p_mp'], # DC power input to the inverter\n",
    "                                 inverter_data) # Parameters for the inverter \n",
    "# Estimated Power Output\n",
    "ac_power"
   ]
  },
  {
   "cell_type": "markdown",
   "metadata": {},
   "source": [
    "The result is an array of 5 elements expressed in Watts. It is worth noting that the inverter requires starting power, which is denoted by 'Pso' in the dictionary. \n",
    "\n"
   ]
  },
  {
   "cell_type": "code",
   "execution_count": 20,
   "metadata": {},
   "outputs": [
    {
     "data": {
      "text/plain": [
       "1.7694439999999998"
      ]
     },
     "execution_count": 20,
     "metadata": {},
     "output_type": "execute_result"
    }
   ],
   "source": [
    "# Let's check the start DC power required for the inversion process (or self-consumption of the inverter)\n",
    "inverter_data['Pso']"
   ]
  },
  {
   "cell_type": "markdown",
   "metadata": {},
   "source": [
    "## 5 Whole System Irradiance to Power Conversion <a id='fullsystem'></a>\n",
    "\n",
    "The previous section have shown the conversion irradiance to power step-by-step. The library *pvlib* has an alternative method to estimate the AC power output in a more straight-forward way by using the *pvlib* classes *PVSystem* and *ModelChain*.\n",
    "\n",
    "This section presents an example to estimate the AC power directly using real weather data. The example below uses weather data from a [station](https://midcdmz.nrel.gov/apps/sitehome.pl?site=UOSMRL) located at the University of Oregon, which belongs to the Measurement and Instrumentation Data Center (MIDC) of the U.S. National Renewable Energy Laboratory (NREL). The data used are 1-minute GHI, DHI, DNI, ambient temperature and wind speed measurements for one day in June 2021 (Vignola and Andreas, 2013).\n",
    "\n",
    "**Retrieving real weather data:**"
   ]
  },
  {
   "cell_type": "code",
   "execution_count": 21,
   "metadata": {},
   "outputs": [
    {
     "data": {
      "text/html": [
       "<div>\n",
       "<style scoped>\n",
       "    .dataframe tbody tr th:only-of-type {\n",
       "        vertical-align: middle;\n",
       "    }\n",
       "\n",
       "    .dataframe tbody tr th {\n",
       "        vertical-align: top;\n",
       "    }\n",
       "\n",
       "    .dataframe thead th {\n",
       "        text-align: right;\n",
       "    }\n",
       "</style>\n",
       "<table border=\"1\" class=\"dataframe\">\n",
       "  <thead>\n",
       "    <tr style=\"text-align: right;\">\n",
       "      <th></th>\n",
       "      <th>Unnamed: 0</th>\n",
       "      <th>Year</th>\n",
       "      <th>DOY</th>\n",
       "      <th>PST</th>\n",
       "      <th>Unnamed: 4</th>\n",
       "      <th>Direct NIP [W/m^2]</th>\n",
       "      <th>Diffuse Schenk [W/m^2]</th>\n",
       "      <th>Global LI-200 [W/m^2]</th>\n",
       "      <th>Relative Humidity [%]</th>\n",
       "      <th>Air Temperature [deg C]</th>\n",
       "      <th>...</th>\n",
       "      <th>CHP1 Temp [deg K]</th>\n",
       "      <th>CMP22 Temp [deg K]</th>\n",
       "      <th>Avg Wind Direction @ 10m [deg from N]</th>\n",
       "      <th>Zenith Angle [degrees]</th>\n",
       "      <th>Azimuth Angle [degrees]</th>\n",
       "      <th>Airmass</th>\n",
       "      <th>Solar Eclipse Shading</th>\n",
       "      <th>Direct SAMPA/Bird (calc) [W/m^2]</th>\n",
       "      <th>Global SAMPA/Bird (calc) [W/m^2]</th>\n",
       "      <th>Diffuse SAMPA/Bird (calc) [W/m^2]</th>\n",
       "    </tr>\n",
       "  </thead>\n",
       "  <tbody>\n",
       "    <tr>\n",
       "      <th>2021-06-01 00:00:00-08:00</th>\n",
       "      <td>0</td>\n",
       "      <td>2021</td>\n",
       "      <td>152</td>\n",
       "      <td>0</td>\n",
       "      <td>-7999</td>\n",
       "      <td>-0.453</td>\n",
       "      <td>-1.129</td>\n",
       "      <td>0.157</td>\n",
       "      <td>58.95</td>\n",
       "      <td>19.89</td>\n",
       "      <td>...</td>\n",
       "      <td>292.8</td>\n",
       "      <td>294.6</td>\n",
       "      <td>41.59</td>\n",
       "      <td>113.81644</td>\n",
       "      <td>357.43310</td>\n",
       "      <td>-1.0</td>\n",
       "      <td>0</td>\n",
       "      <td>0.0</td>\n",
       "      <td>0.0</td>\n",
       "      <td>0.0</td>\n",
       "    </tr>\n",
       "    <tr>\n",
       "      <th>2021-06-01 00:01:00-08:00</th>\n",
       "      <td>0</td>\n",
       "      <td>2021</td>\n",
       "      <td>152</td>\n",
       "      <td>1</td>\n",
       "      <td>-7999</td>\n",
       "      <td>-0.482</td>\n",
       "      <td>-1.150</td>\n",
       "      <td>0.154</td>\n",
       "      <td>59.13</td>\n",
       "      <td>19.79</td>\n",
       "      <td>...</td>\n",
       "      <td>292.8</td>\n",
       "      <td>294.6</td>\n",
       "      <td>64.06</td>\n",
       "      <td>113.82399</td>\n",
       "      <td>357.68613</td>\n",
       "      <td>-1.0</td>\n",
       "      <td>0</td>\n",
       "      <td>0.0</td>\n",
       "      <td>0.0</td>\n",
       "      <td>0.0</td>\n",
       "    </tr>\n",
       "    <tr>\n",
       "      <th>2021-06-01 00:02:00-08:00</th>\n",
       "      <td>0</td>\n",
       "      <td>2021</td>\n",
       "      <td>152</td>\n",
       "      <td>2</td>\n",
       "      <td>-7999</td>\n",
       "      <td>-0.575</td>\n",
       "      <td>-1.174</td>\n",
       "      <td>0.134</td>\n",
       "      <td>59.76</td>\n",
       "      <td>19.70</td>\n",
       "      <td>...</td>\n",
       "      <td>292.7</td>\n",
       "      <td>294.5</td>\n",
       "      <td>63.20</td>\n",
       "      <td>113.83076</td>\n",
       "      <td>357.93921</td>\n",
       "      <td>-1.0</td>\n",
       "      <td>0</td>\n",
       "      <td>0.0</td>\n",
       "      <td>0.0</td>\n",
       "      <td>0.0</td>\n",
       "    </tr>\n",
       "  </tbody>\n",
       "</table>\n",
       "<p>3 rows × 29 columns</p>\n",
       "</div>"
      ],
      "text/plain": [
       "                           Unnamed: 0  Year  DOY  PST  Unnamed: 4  \\\n",
       "2021-06-01 00:00:00-08:00           0  2021  152    0       -7999   \n",
       "2021-06-01 00:01:00-08:00           0  2021  152    1       -7999   \n",
       "2021-06-01 00:02:00-08:00           0  2021  152    2       -7999   \n",
       "\n",
       "                           Direct NIP [W/m^2]  Diffuse Schenk [W/m^2]  \\\n",
       "2021-06-01 00:00:00-08:00              -0.453                  -1.129   \n",
       "2021-06-01 00:01:00-08:00              -0.482                  -1.150   \n",
       "2021-06-01 00:02:00-08:00              -0.575                  -1.174   \n",
       "\n",
       "                           Global LI-200 [W/m^2]  Relative Humidity [%]  \\\n",
       "2021-06-01 00:00:00-08:00                  0.157                  58.95   \n",
       "2021-06-01 00:01:00-08:00                  0.154                  59.13   \n",
       "2021-06-01 00:02:00-08:00                  0.134                  59.76   \n",
       "\n",
       "                           Air Temperature [deg C]  ...  CHP1 Temp [deg K]  \\\n",
       "2021-06-01 00:00:00-08:00                    19.89  ...              292.8   \n",
       "2021-06-01 00:01:00-08:00                    19.79  ...              292.8   \n",
       "2021-06-01 00:02:00-08:00                    19.70  ...              292.7   \n",
       "\n",
       "                           CMP22 Temp [deg K]  \\\n",
       "2021-06-01 00:00:00-08:00               294.6   \n",
       "2021-06-01 00:01:00-08:00               294.6   \n",
       "2021-06-01 00:02:00-08:00               294.5   \n",
       "\n",
       "                           Avg Wind Direction @ 10m [deg from N]  \\\n",
       "2021-06-01 00:00:00-08:00                                  41.59   \n",
       "2021-06-01 00:01:00-08:00                                  64.06   \n",
       "2021-06-01 00:02:00-08:00                                  63.20   \n",
       "\n",
       "                           Zenith Angle [degrees]  Azimuth Angle [degrees]  \\\n",
       "2021-06-01 00:00:00-08:00               113.81644                357.43310   \n",
       "2021-06-01 00:01:00-08:00               113.82399                357.68613   \n",
       "2021-06-01 00:02:00-08:00               113.83076                357.93921   \n",
       "\n",
       "                           Airmass  Solar Eclipse Shading  \\\n",
       "2021-06-01 00:00:00-08:00     -1.0                      0   \n",
       "2021-06-01 00:01:00-08:00     -1.0                      0   \n",
       "2021-06-01 00:02:00-08:00     -1.0                      0   \n",
       "\n",
       "                           Direct SAMPA/Bird (calc) [W/m^2]  \\\n",
       "2021-06-01 00:00:00-08:00                               0.0   \n",
       "2021-06-01 00:01:00-08:00                               0.0   \n",
       "2021-06-01 00:02:00-08:00                               0.0   \n",
       "\n",
       "                           Global SAMPA/Bird (calc) [W/m^2]  \\\n",
       "2021-06-01 00:00:00-08:00                               0.0   \n",
       "2021-06-01 00:01:00-08:00                               0.0   \n",
       "2021-06-01 00:02:00-08:00                               0.0   \n",
       "\n",
       "                           Diffuse SAMPA/Bird (calc) [W/m^2]  \n",
       "2021-06-01 00:00:00-08:00                                0.0  \n",
       "2021-06-01 00:01:00-08:00                                0.0  \n",
       "2021-06-01 00:02:00-08:00                                0.0  \n",
       "\n",
       "[3 rows x 29 columns]"
      ]
     },
     "execution_count": 21,
     "metadata": {},
     "output_type": "execute_result"
    }
   ],
   "source": [
    "import pandas as pd\n",
    "# Let's read the weather data from the MIDC station using the I/O tools available within pvlib\n",
    "df_weather = pvlib.iotools.read_midc_raw_data_from_nrel('UOSMRL',               # Station id\n",
    "                                                    pd.Timestamp('20210601'),   # Start date YYYYMMDD\n",
    "                                                    pd.Timestamp('20210601'))   # End date  YYYYMMDD\n",
    "\n",
    "# Let's see the head, shape and columns of the data\n",
    "df_weather.head(3)"
   ]
  },
  {
   "cell_type": "code",
   "execution_count": 22,
   "metadata": {},
   "outputs": [
    {
     "data": {
      "text/plain": [
       "(1437, 29)"
      ]
     },
     "execution_count": 22,
     "metadata": {},
     "output_type": "execute_result"
    }
   ],
   "source": [
    "df_weather.shape"
   ]
  },
  {
   "cell_type": "code",
   "execution_count": 23,
   "metadata": {},
   "outputs": [
    {
     "data": {
      "text/plain": [
       "Index(['Unnamed: 0', 'Year', 'DOY', 'PST', 'Unnamed: 4', 'Direct NIP [W/m^2]',\n",
       "       'Diffuse Schenk [W/m^2]', 'Global LI-200 [W/m^2]',\n",
       "       'Relative Humidity [%]', 'Air Temperature [deg C]',\n",
       "       'Avg Wind Speed @ 10m [m/s]', 'Station Pressure [mBar]',\n",
       "       'Downwelling IR PIR [W/m^2]', 'Instrument Net PIR [W/m^2]',\n",
       "       'PIR Case Temp [deg K]', 'PIR Dome Temp [deg K]',\n",
       "       'Logger Battery [VDC]', 'Direct CHP1 [W/m^2]', 'Global CMP22 [W/m^2]',\n",
       "       'CHP1 Temp [deg K]', 'CMP22 Temp [deg K]',\n",
       "       'Avg Wind Direction @ 10m [deg from N]', 'Zenith Angle [degrees]',\n",
       "       'Azimuth Angle [degrees]', 'Airmass', 'Solar Eclipse Shading',\n",
       "       'Direct SAMPA/Bird (calc) [W/m^2]', 'Global SAMPA/Bird (calc) [W/m^2]',\n",
       "       'Diffuse SAMPA/Bird (calc) [W/m^2]'],\n",
       "      dtype='object')"
      ]
     },
     "execution_count": 23,
     "metadata": {},
     "output_type": "execute_result"
    }
   ],
   "source": [
    "df_weather.columns"
   ]
  },
  {
   "cell_type": "markdown",
   "metadata": {},
   "source": [
    "The DataFrame of weather data provides more many variables (29 variables) than those needed (i.e., irradiance components, ambient temperature and wind speed) to estimate the equivalent AC power of a PV system."
   ]
  },
  {
   "cell_type": "code",
   "execution_count": 24,
   "metadata": {},
   "outputs": [
    {
     "data": {
      "text/html": [
       "<div>\n",
       "<style scoped>\n",
       "    .dataframe tbody tr th:only-of-type {\n",
       "        vertical-align: middle;\n",
       "    }\n",
       "\n",
       "    .dataframe tbody tr th {\n",
       "        vertical-align: top;\n",
       "    }\n",
       "\n",
       "    .dataframe thead th {\n",
       "        text-align: right;\n",
       "    }\n",
       "</style>\n",
       "<table border=\"1\" class=\"dataframe\">\n",
       "  <thead>\n",
       "    <tr style=\"text-align: right;\">\n",
       "      <th></th>\n",
       "      <th>ghi</th>\n",
       "      <th>dhi</th>\n",
       "      <th>dni</th>\n",
       "      <th>temp_air</th>\n",
       "      <th>wind_speed</th>\n",
       "    </tr>\n",
       "  </thead>\n",
       "  <tbody>\n",
       "    <tr>\n",
       "      <th>2021-06-01 00:00:00-08:00</th>\n",
       "      <td>-0.391</td>\n",
       "      <td>-1.129</td>\n",
       "      <td>0.425</td>\n",
       "      <td>19.89</td>\n",
       "      <td>0.200</td>\n",
       "    </tr>\n",
       "    <tr>\n",
       "      <th>2021-06-01 00:01:00-08:00</th>\n",
       "      <td>-0.391</td>\n",
       "      <td>-1.150</td>\n",
       "      <td>0.411</td>\n",
       "      <td>19.79</td>\n",
       "      <td>0.312</td>\n",
       "    </tr>\n",
       "    <tr>\n",
       "      <th>2021-06-01 00:02:00-08:00</th>\n",
       "      <td>-0.401</td>\n",
       "      <td>-1.174</td>\n",
       "      <td>0.425</td>\n",
       "      <td>19.70</td>\n",
       "      <td>0.250</td>\n",
       "    </tr>\n",
       "  </tbody>\n",
       "</table>\n",
       "</div>"
      ],
      "text/plain": [
       "                             ghi    dhi    dni  temp_air  wind_speed\n",
       "2021-06-01 00:00:00-08:00 -0.391 -1.129  0.425     19.89       0.200\n",
       "2021-06-01 00:01:00-08:00 -0.391 -1.150  0.411     19.79       0.312\n",
       "2021-06-01 00:02:00-08:00 -0.401 -1.174  0.425     19.70       0.250"
      ]
     },
     "execution_count": 24,
     "metadata": {},
     "output_type": "execute_result"
    }
   ],
   "source": [
    "# Subset variables needed\n",
    "df_weather = df_weather[['Global CMP22 [W/m^2]', 'Diffuse Schenk [W/m^2]', \n",
    "                         'Direct CHP1 [W/m^2]','Air Temperature [deg C]', 'Avg Wind Speed @ 10m [m/s]']]\n",
    "# Rename the columns\n",
    "df_weather.columns = ['ghi', 'dhi', 'dni', 'temp_air', 'wind_speed']\n",
    "\n",
    "# See the first columns of our weather dataset\n",
    "df_weather.head(3)"
   ]
  },
  {
   "cell_type": "markdown",
   "metadata": {},
   "source": [
    "For the example, the surface tilt will be 30$^\\circ$, and a surface_azimuth of 180$^\\circ$ (south orientation).\n",
    "\n",
    "Let's define the basics parameters within the *PVSystem* and *ModelChain* classes:\n",
    "\n",
    "**Definining the characteristics of the PV system:**"
   ]
  },
  {
   "cell_type": "code",
   "execution_count": 25,
   "metadata": {},
   "outputs": [
    {
     "name": "stdout",
     "output_type": "stream",
     "text": [
      "ModelChain: \n",
      "  name: AssessingSolar_PV\n",
      "  clearsky_model: ineichen\n",
      "  transposition_model: haydavies\n",
      "  solar_position_method: nrel_numpy\n",
      "  airmass_model: kastenyoung1989\n",
      "  dc_model: cec\n",
      "  ac_model: sandia_inverter\n",
      "  aoi_model: no_aoi_loss\n",
      "  spectral_model: no_spectral_loss\n",
      "  temperature_model: sapm_temp\n",
      "  losses_model: no_extra_losses\n"
     ]
    }
   ],
   "source": [
    "# Coordinates of the weather station at University of Oregon (SRML)\n",
    "latitude = 44.0467\n",
    "longitude = -123.0743\n",
    "altitude = 133.8\n",
    "\n",
    "# Define the location object\n",
    "location = pvlib.location.Location(latitude, longitude, altitude=altitude)\n",
    "\n",
    "# Define Temperature Paremeters \n",
    "temperature_model_parameters = pvlib.temperature.TEMPERATURE_MODEL_PARAMETERS['sapm']['open_rack_glass_glass']\n",
    "\n",
    "# Define the PV Module and the Inverter from the CEC databases (For example, the first entry of the databases)\n",
    "module_data = cec_mod_db.iloc[:,0]\n",
    "\n",
    "# Define the basics of the class PVSystem\n",
    "system = pvlib.pvsystem.PVSystem(surface_tilt=30, surface_azimuth=180,\n",
    "                                 module_parameters=module_data,\n",
    "                                 inverter_parameters=inverter_data,\n",
    "                                 temperature_model_parameters=temperature_model_parameters)\n",
    "\n",
    "# Creation of the ModelChain object\n",
    "\"\"\" The example does not consider AOI losses nor irradiance spectral losses\"\"\"\n",
    "mc = pvlib.modelchain.ModelChain(system, location, \n",
    "                                 aoi_model='no_loss', \n",
    "                                 spectral_model='no_loss',\n",
    "                                 name='AssessingSolar_PV')\n",
    "\n",
    "# Have a look to the ModelChain\n",
    "print(mc)"
   ]
  },
  {
   "cell_type": "markdown",
   "metadata": {},
   "source": [
    "**Running the model with the weather data:**"
   ]
  },
  {
   "cell_type": "code",
   "execution_count": 26,
   "metadata": {},
   "outputs": [
    {
     "data": {
      "text/plain": [
       "ModelChain: \n",
       "  name: AssessingSolar_PV\n",
       "  clearsky_model: ineichen\n",
       "  transposition_model: haydavies\n",
       "  solar_position_method: nrel_numpy\n",
       "  airmass_model: kastenyoung1989\n",
       "  dc_model: cec\n",
       "  ac_model: sandia_inverter\n",
       "  aoi_model: no_aoi_loss\n",
       "  spectral_model: no_spectral_loss\n",
       "  temperature_model: sapm_temp\n",
       "  losses_model: no_extra_losses"
      ]
     },
     "execution_count": 26,
     "metadata": {},
     "output_type": "execute_result"
    }
   ],
   "source": [
    "# Pass the weather data to the model\n",
    "\"\"\" \n",
    "The weather DataFrame must include the irradiance components with the names 'dni', 'ghi', and 'dhi'. \n",
    "The air temperature named 'temp_air' in degree Celsius and wind speed 'wind_speed' in m/s are optional.\n",
    "\"\"\"\n",
    "mc.run_model(df_weather) "
   ]
  },
  {
   "cell_type": "markdown",
   "metadata": {},
   "source": [
    "**Accessing the results of the model:**\n",
    "\n",
    "After running the model with the weather data, the results can be accessed with the method '*results*'. There are multiple sets of results that can be accessed, some of them are: the weather data 'weather'; the solar position 'solar_position'; the plane-of-array irradiance components 'total_irrad'; the DC power output 'dc'; or the AC power output 'ac'. \n",
    "\n",
    "Let's have a look how that can be done:"
   ]
  },
  {
   "cell_type": "code",
   "execution_count": 27,
   "metadata": {},
   "outputs": [
    {
     "data": {
      "text/html": [
       "<div>\n",
       "<style scoped>\n",
       "    .dataframe tbody tr th:only-of-type {\n",
       "        vertical-align: middle;\n",
       "    }\n",
       "\n",
       "    .dataframe tbody tr th {\n",
       "        vertical-align: top;\n",
       "    }\n",
       "\n",
       "    .dataframe thead th {\n",
       "        text-align: right;\n",
       "    }\n",
       "</style>\n",
       "<table border=\"1\" class=\"dataframe\">\n",
       "  <thead>\n",
       "    <tr style=\"text-align: right;\">\n",
       "      <th></th>\n",
       "      <th>ghi</th>\n",
       "      <th>dhi</th>\n",
       "      <th>dni</th>\n",
       "      <th>wind_speed</th>\n",
       "      <th>temp_air</th>\n",
       "    </tr>\n",
       "  </thead>\n",
       "  <tbody>\n",
       "    <tr>\n",
       "      <th>2021-06-01 00:00:00-08:00</th>\n",
       "      <td>-0.391</td>\n",
       "      <td>-1.129</td>\n",
       "      <td>0.425</td>\n",
       "      <td>0.200</td>\n",
       "      <td>19.89</td>\n",
       "    </tr>\n",
       "    <tr>\n",
       "      <th>2021-06-01 00:01:00-08:00</th>\n",
       "      <td>-0.391</td>\n",
       "      <td>-1.150</td>\n",
       "      <td>0.411</td>\n",
       "      <td>0.312</td>\n",
       "      <td>19.79</td>\n",
       "    </tr>\n",
       "    <tr>\n",
       "      <th>2021-06-01 00:02:00-08:00</th>\n",
       "      <td>-0.401</td>\n",
       "      <td>-1.174</td>\n",
       "      <td>0.425</td>\n",
       "      <td>0.250</td>\n",
       "      <td>19.70</td>\n",
       "    </tr>\n",
       "    <tr>\n",
       "      <th>2021-06-01 00:03:00-08:00</th>\n",
       "      <td>-0.414</td>\n",
       "      <td>-1.185</td>\n",
       "      <td>0.425</td>\n",
       "      <td>0.375</td>\n",
       "      <td>19.67</td>\n",
       "    </tr>\n",
       "    <tr>\n",
       "      <th>2021-06-01 00:04:00-08:00</th>\n",
       "      <td>-0.420</td>\n",
       "      <td>-1.182</td>\n",
       "      <td>0.425</td>\n",
       "      <td>0.300</td>\n",
       "      <td>19.59</td>\n",
       "    </tr>\n",
       "    <tr>\n",
       "      <th>...</th>\n",
       "      <td>...</td>\n",
       "      <td>...</td>\n",
       "      <td>...</td>\n",
       "      <td>...</td>\n",
       "      <td>...</td>\n",
       "    </tr>\n",
       "    <tr>\n",
       "      <th>2021-06-01 23:55:00-08:00</th>\n",
       "      <td>-0.299</td>\n",
       "      <td>-0.849</td>\n",
       "      <td>0.425</td>\n",
       "      <td>0.200</td>\n",
       "      <td>22.74</td>\n",
       "    </tr>\n",
       "    <tr>\n",
       "      <th>2021-06-01 23:56:00-08:00</th>\n",
       "      <td>-0.295</td>\n",
       "      <td>-0.838</td>\n",
       "      <td>0.425</td>\n",
       "      <td>0.200</td>\n",
       "      <td>22.75</td>\n",
       "    </tr>\n",
       "    <tr>\n",
       "      <th>2021-06-01 23:57:00-08:00</th>\n",
       "      <td>-0.300</td>\n",
       "      <td>-0.865</td>\n",
       "      <td>0.425</td>\n",
       "      <td>0.200</td>\n",
       "      <td>22.74</td>\n",
       "    </tr>\n",
       "    <tr>\n",
       "      <th>2021-06-01 23:58:00-08:00</th>\n",
       "      <td>-0.299</td>\n",
       "      <td>-0.952</td>\n",
       "      <td>0.425</td>\n",
       "      <td>0.200</td>\n",
       "      <td>22.77</td>\n",
       "    </tr>\n",
       "    <tr>\n",
       "      <th>2021-06-01 23:59:00-08:00</th>\n",
       "      <td>-0.275</td>\n",
       "      <td>-0.974</td>\n",
       "      <td>0.425</td>\n",
       "      <td>0.200</td>\n",
       "      <td>22.81</td>\n",
       "    </tr>\n",
       "  </tbody>\n",
       "</table>\n",
       "<p>1437 rows × 5 columns</p>\n",
       "</div>"
      ],
      "text/plain": [
       "                             ghi    dhi    dni  wind_speed  temp_air\n",
       "2021-06-01 00:00:00-08:00 -0.391 -1.129  0.425       0.200     19.89\n",
       "2021-06-01 00:01:00-08:00 -0.391 -1.150  0.411       0.312     19.79\n",
       "2021-06-01 00:02:00-08:00 -0.401 -1.174  0.425       0.250     19.70\n",
       "2021-06-01 00:03:00-08:00 -0.414 -1.185  0.425       0.375     19.67\n",
       "2021-06-01 00:04:00-08:00 -0.420 -1.182  0.425       0.300     19.59\n",
       "...                          ...    ...    ...         ...       ...\n",
       "2021-06-01 23:55:00-08:00 -0.299 -0.849  0.425       0.200     22.74\n",
       "2021-06-01 23:56:00-08:00 -0.295 -0.838  0.425       0.200     22.75\n",
       "2021-06-01 23:57:00-08:00 -0.300 -0.865  0.425       0.200     22.74\n",
       "2021-06-01 23:58:00-08:00 -0.299 -0.952  0.425       0.200     22.77\n",
       "2021-06-01 23:59:00-08:00 -0.275 -0.974  0.425       0.200     22.81\n",
       "\n",
       "[1437 rows x 5 columns]"
      ]
     },
     "execution_count": 27,
     "metadata": {},
     "output_type": "execute_result"
    }
   ],
   "source": [
    "# Access the weather data\n",
    "mc.results.weather"
   ]
  },
  {
   "cell_type": "markdown",
   "metadata": {},
   "source": [
    "This returns the same DataFrame 'df_weather' that we had passed to the model."
   ]
  },
  {
   "cell_type": "code",
   "execution_count": 28,
   "metadata": {},
   "outputs": [
    {
     "data": {
      "text/html": [
       "<div>\n",
       "<style scoped>\n",
       "    .dataframe tbody tr th:only-of-type {\n",
       "        vertical-align: middle;\n",
       "    }\n",
       "\n",
       "    .dataframe tbody tr th {\n",
       "        vertical-align: top;\n",
       "    }\n",
       "\n",
       "    .dataframe thead th {\n",
       "        text-align: right;\n",
       "    }\n",
       "</style>\n",
       "<table border=\"1\" class=\"dataframe\">\n",
       "  <thead>\n",
       "    <tr style=\"text-align: right;\">\n",
       "      <th></th>\n",
       "      <th>apparent_zenith</th>\n",
       "      <th>zenith</th>\n",
       "      <th>apparent_elevation</th>\n",
       "      <th>elevation</th>\n",
       "      <th>azimuth</th>\n",
       "      <th>equation_of_time</th>\n",
       "    </tr>\n",
       "  </thead>\n",
       "  <tbody>\n",
       "    <tr>\n",
       "      <th>2021-06-01 00:00:00-08:00</th>\n",
       "      <td>113.816399</td>\n",
       "      <td>113.816399</td>\n",
       "      <td>-23.816399</td>\n",
       "      <td>-23.816399</td>\n",
       "      <td>357.431855</td>\n",
       "      <td>2.157534</td>\n",
       "    </tr>\n",
       "    <tr>\n",
       "      <th>2021-06-01 00:01:00-08:00</th>\n",
       "      <td>113.823961</td>\n",
       "      <td>113.823961</td>\n",
       "      <td>-23.823961</td>\n",
       "      <td>-23.823961</td>\n",
       "      <td>357.684892</td>\n",
       "      <td>2.157427</td>\n",
       "    </tr>\n",
       "    <tr>\n",
       "      <th>2021-06-01 00:02:00-08:00</th>\n",
       "      <td>113.830729</td>\n",
       "      <td>113.830729</td>\n",
       "      <td>-23.830729</td>\n",
       "      <td>-23.830729</td>\n",
       "      <td>357.937970</td>\n",
       "      <td>2.157321</td>\n",
       "    </tr>\n",
       "    <tr>\n",
       "      <th>2021-06-01 00:03:00-08:00</th>\n",
       "      <td>113.836705</td>\n",
       "      <td>113.836705</td>\n",
       "      <td>-23.836705</td>\n",
       "      <td>-23.836705</td>\n",
       "      <td>358.191084</td>\n",
       "      <td>2.157214</td>\n",
       "    </tr>\n",
       "    <tr>\n",
       "      <th>2021-06-01 00:04:00-08:00</th>\n",
       "      <td>113.841887</td>\n",
       "      <td>113.841887</td>\n",
       "      <td>-23.841887</td>\n",
       "      <td>-23.841887</td>\n",
       "      <td>358.444229</td>\n",
       "      <td>2.157107</td>\n",
       "    </tr>\n",
       "    <tr>\n",
       "      <th>...</th>\n",
       "      <td>...</td>\n",
       "      <td>...</td>\n",
       "      <td>...</td>\n",
       "      <td>...</td>\n",
       "      <td>...</td>\n",
       "      <td>...</td>\n",
       "    </tr>\n",
       "    <tr>\n",
       "      <th>2021-06-01 23:55:00-08:00</th>\n",
       "      <td>113.634624</td>\n",
       "      <td>113.634624</td>\n",
       "      <td>-23.634624</td>\n",
       "      <td>-23.634624</td>\n",
       "      <td>356.135134</td>\n",
       "      <td>2.000772</td>\n",
       "    </tr>\n",
       "    <tr>\n",
       "      <th>2021-06-01 23:56:00-08:00</th>\n",
       "      <td>113.646251</td>\n",
       "      <td>113.646251</td>\n",
       "      <td>-23.646251</td>\n",
       "      <td>-23.646251</td>\n",
       "      <td>356.387404</td>\n",
       "      <td>2.000661</td>\n",
       "    </tr>\n",
       "    <tr>\n",
       "      <th>2021-06-01 23:57:00-08:00</th>\n",
       "      <td>113.657089</td>\n",
       "      <td>113.657089</td>\n",
       "      <td>-23.657089</td>\n",
       "      <td>-23.657089</td>\n",
       "      <td>356.639737</td>\n",
       "      <td>2.000549</td>\n",
       "    </tr>\n",
       "    <tr>\n",
       "      <th>2021-06-01 23:58:00-08:00</th>\n",
       "      <td>113.667137</td>\n",
       "      <td>113.667137</td>\n",
       "      <td>-23.667137</td>\n",
       "      <td>-23.667137</td>\n",
       "      <td>356.892129</td>\n",
       "      <td>2.000438</td>\n",
       "    </tr>\n",
       "    <tr>\n",
       "      <th>2021-06-01 23:59:00-08:00</th>\n",
       "      <td>113.676395</td>\n",
       "      <td>113.676395</td>\n",
       "      <td>-23.676395</td>\n",
       "      <td>-23.676395</td>\n",
       "      <td>357.144575</td>\n",
       "      <td>2.000326</td>\n",
       "    </tr>\n",
       "  </tbody>\n",
       "</table>\n",
       "<p>1437 rows × 6 columns</p>\n",
       "</div>"
      ],
      "text/plain": [
       "                           apparent_zenith      zenith  apparent_elevation  \\\n",
       "2021-06-01 00:00:00-08:00       113.816399  113.816399          -23.816399   \n",
       "2021-06-01 00:01:00-08:00       113.823961  113.823961          -23.823961   \n",
       "2021-06-01 00:02:00-08:00       113.830729  113.830729          -23.830729   \n",
       "2021-06-01 00:03:00-08:00       113.836705  113.836705          -23.836705   \n",
       "2021-06-01 00:04:00-08:00       113.841887  113.841887          -23.841887   \n",
       "...                                    ...         ...                 ...   \n",
       "2021-06-01 23:55:00-08:00       113.634624  113.634624          -23.634624   \n",
       "2021-06-01 23:56:00-08:00       113.646251  113.646251          -23.646251   \n",
       "2021-06-01 23:57:00-08:00       113.657089  113.657089          -23.657089   \n",
       "2021-06-01 23:58:00-08:00       113.667137  113.667137          -23.667137   \n",
       "2021-06-01 23:59:00-08:00       113.676395  113.676395          -23.676395   \n",
       "\n",
       "                           elevation     azimuth  equation_of_time  \n",
       "2021-06-01 00:00:00-08:00 -23.816399  357.431855          2.157534  \n",
       "2021-06-01 00:01:00-08:00 -23.823961  357.684892          2.157427  \n",
       "2021-06-01 00:02:00-08:00 -23.830729  357.937970          2.157321  \n",
       "2021-06-01 00:03:00-08:00 -23.836705  358.191084          2.157214  \n",
       "2021-06-01 00:04:00-08:00 -23.841887  358.444229          2.157107  \n",
       "...                              ...         ...               ...  \n",
       "2021-06-01 23:55:00-08:00 -23.634624  356.135134          2.000772  \n",
       "2021-06-01 23:56:00-08:00 -23.646251  356.387404          2.000661  \n",
       "2021-06-01 23:57:00-08:00 -23.657089  356.639737          2.000549  \n",
       "2021-06-01 23:58:00-08:00 -23.667137  356.892129          2.000438  \n",
       "2021-06-01 23:59:00-08:00 -23.676395  357.144575          2.000326  \n",
       "\n",
       "[1437 rows x 6 columns]"
      ]
     },
     "execution_count": 28,
     "metadata": {},
     "output_type": "execute_result"
    }
   ],
   "source": [
    "# Access the solar position at each timestamp\n",
    "mc.results.solar_position"
   ]
  },
  {
   "cell_type": "markdown",
   "metadata": {},
   "source": [
    "The solar position returns the zenith, solar elevation, azimuth angles and the equation of time."
   ]
  },
  {
   "cell_type": "code",
   "execution_count": 29,
   "metadata": {},
   "outputs": [
    {
     "data": {
      "text/html": [
       "<div>\n",
       "<style scoped>\n",
       "    .dataframe tbody tr th:only-of-type {\n",
       "        vertical-align: middle;\n",
       "    }\n",
       "\n",
       "    .dataframe tbody tr th {\n",
       "        vertical-align: top;\n",
       "    }\n",
       "\n",
       "    .dataframe thead th {\n",
       "        text-align: right;\n",
       "    }\n",
       "</style>\n",
       "<table border=\"1\" class=\"dataframe\">\n",
       "  <thead>\n",
       "    <tr style=\"text-align: right;\">\n",
       "      <th></th>\n",
       "      <th>poa_global</th>\n",
       "      <th>poa_direct</th>\n",
       "      <th>poa_diffuse</th>\n",
       "      <th>poa_sky_diffuse</th>\n",
       "      <th>poa_ground_diffuse</th>\n",
       "    </tr>\n",
       "  </thead>\n",
       "  <tbody>\n",
       "    <tr>\n",
       "      <th>2021-06-01 00:00:00-08:00</th>\n",
       "      <td>-0.006548</td>\n",
       "      <td>0.0</td>\n",
       "      <td>-0.006548</td>\n",
       "      <td>0.0</td>\n",
       "      <td>-0.006548</td>\n",
       "    </tr>\n",
       "    <tr>\n",
       "      <th>2021-06-01 00:01:00-08:00</th>\n",
       "      <td>-0.006548</td>\n",
       "      <td>0.0</td>\n",
       "      <td>-0.006548</td>\n",
       "      <td>0.0</td>\n",
       "      <td>-0.006548</td>\n",
       "    </tr>\n",
       "    <tr>\n",
       "      <th>2021-06-01 00:02:00-08:00</th>\n",
       "      <td>-0.006715</td>\n",
       "      <td>0.0</td>\n",
       "      <td>-0.006715</td>\n",
       "      <td>0.0</td>\n",
       "      <td>-0.006715</td>\n",
       "    </tr>\n",
       "    <tr>\n",
       "      <th>2021-06-01 00:03:00-08:00</th>\n",
       "      <td>-0.006933</td>\n",
       "      <td>0.0</td>\n",
       "      <td>-0.006933</td>\n",
       "      <td>0.0</td>\n",
       "      <td>-0.006933</td>\n",
       "    </tr>\n",
       "    <tr>\n",
       "      <th>2021-06-01 00:04:00-08:00</th>\n",
       "      <td>-0.007034</td>\n",
       "      <td>0.0</td>\n",
       "      <td>-0.007034</td>\n",
       "      <td>0.0</td>\n",
       "      <td>-0.007034</td>\n",
       "    </tr>\n",
       "    <tr>\n",
       "      <th>...</th>\n",
       "      <td>...</td>\n",
       "      <td>...</td>\n",
       "      <td>...</td>\n",
       "      <td>...</td>\n",
       "      <td>...</td>\n",
       "    </tr>\n",
       "    <tr>\n",
       "      <th>2021-06-01 23:55:00-08:00</th>\n",
       "      <td>-0.005007</td>\n",
       "      <td>0.0</td>\n",
       "      <td>-0.005007</td>\n",
       "      <td>0.0</td>\n",
       "      <td>-0.005007</td>\n",
       "    </tr>\n",
       "    <tr>\n",
       "      <th>2021-06-01 23:56:00-08:00</th>\n",
       "      <td>-0.004940</td>\n",
       "      <td>0.0</td>\n",
       "      <td>-0.004940</td>\n",
       "      <td>0.0</td>\n",
       "      <td>-0.004940</td>\n",
       "    </tr>\n",
       "    <tr>\n",
       "      <th>2021-06-01 23:57:00-08:00</th>\n",
       "      <td>-0.005024</td>\n",
       "      <td>0.0</td>\n",
       "      <td>-0.005024</td>\n",
       "      <td>0.0</td>\n",
       "      <td>-0.005024</td>\n",
       "    </tr>\n",
       "    <tr>\n",
       "      <th>2021-06-01 23:58:00-08:00</th>\n",
       "      <td>-0.005007</td>\n",
       "      <td>0.0</td>\n",
       "      <td>-0.005007</td>\n",
       "      <td>0.0</td>\n",
       "      <td>-0.005007</td>\n",
       "    </tr>\n",
       "    <tr>\n",
       "      <th>2021-06-01 23:59:00-08:00</th>\n",
       "      <td>-0.004605</td>\n",
       "      <td>0.0</td>\n",
       "      <td>-0.004605</td>\n",
       "      <td>0.0</td>\n",
       "      <td>-0.004605</td>\n",
       "    </tr>\n",
       "  </tbody>\n",
       "</table>\n",
       "<p>1437 rows × 5 columns</p>\n",
       "</div>"
      ],
      "text/plain": [
       "                           poa_global  poa_direct  poa_diffuse  \\\n",
       "2021-06-01 00:00:00-08:00   -0.006548         0.0    -0.006548   \n",
       "2021-06-01 00:01:00-08:00   -0.006548         0.0    -0.006548   \n",
       "2021-06-01 00:02:00-08:00   -0.006715         0.0    -0.006715   \n",
       "2021-06-01 00:03:00-08:00   -0.006933         0.0    -0.006933   \n",
       "2021-06-01 00:04:00-08:00   -0.007034         0.0    -0.007034   \n",
       "...                               ...         ...          ...   \n",
       "2021-06-01 23:55:00-08:00   -0.005007         0.0    -0.005007   \n",
       "2021-06-01 23:56:00-08:00   -0.004940         0.0    -0.004940   \n",
       "2021-06-01 23:57:00-08:00   -0.005024         0.0    -0.005024   \n",
       "2021-06-01 23:58:00-08:00   -0.005007         0.0    -0.005007   \n",
       "2021-06-01 23:59:00-08:00   -0.004605         0.0    -0.004605   \n",
       "\n",
       "                           poa_sky_diffuse  poa_ground_diffuse  \n",
       "2021-06-01 00:00:00-08:00              0.0           -0.006548  \n",
       "2021-06-01 00:01:00-08:00              0.0           -0.006548  \n",
       "2021-06-01 00:02:00-08:00              0.0           -0.006715  \n",
       "2021-06-01 00:03:00-08:00              0.0           -0.006933  \n",
       "2021-06-01 00:04:00-08:00              0.0           -0.007034  \n",
       "...                                    ...                 ...  \n",
       "2021-06-01 23:55:00-08:00              0.0           -0.005007  \n",
       "2021-06-01 23:56:00-08:00              0.0           -0.004940  \n",
       "2021-06-01 23:57:00-08:00              0.0           -0.005024  \n",
       "2021-06-01 23:58:00-08:00              0.0           -0.005007  \n",
       "2021-06-01 23:59:00-08:00              0.0           -0.004605  \n",
       "\n",
       "[1437 rows x 5 columns]"
      ]
     },
     "execution_count": 29,
     "metadata": {},
     "output_type": "execute_result"
    }
   ],
   "source": [
    "# Access Plane-of-array Irradiances\n",
    "mc.results.total_irrad"
   ]
  },
  {
   "cell_type": "markdown",
   "metadata": {},
   "source": [
    "The results for the plane-of-array irradiance returns the global POA irradiance and its components at the designated tilt and azimuth angle of the PV system and estimated with the method designated in ModelChain.\n",
    "\n",
    "Let's see how to access the DC and AC power output of the PV system:"
   ]
  },
  {
   "cell_type": "code",
   "execution_count": 30,
   "metadata": {},
   "outputs": [
    {
     "data": {
      "text/html": [
       "<div>\n",
       "<style scoped>\n",
       "    .dataframe tbody tr th:only-of-type {\n",
       "        vertical-align: middle;\n",
       "    }\n",
       "\n",
       "    .dataframe tbody tr th {\n",
       "        vertical-align: top;\n",
       "    }\n",
       "\n",
       "    .dataframe thead th {\n",
       "        text-align: right;\n",
       "    }\n",
       "</style>\n",
       "<table border=\"1\" class=\"dataframe\">\n",
       "  <thead>\n",
       "    <tr style=\"text-align: right;\">\n",
       "      <th></th>\n",
       "      <th>i_sc</th>\n",
       "      <th>v_oc</th>\n",
       "      <th>i_mp</th>\n",
       "      <th>v_mp</th>\n",
       "      <th>p_mp</th>\n",
       "      <th>i_x</th>\n",
       "      <th>i_xx</th>\n",
       "    </tr>\n",
       "  </thead>\n",
       "  <tbody>\n",
       "    <tr>\n",
       "      <th>2021-06-01 00:00:00-08:00</th>\n",
       "      <td>-0.000034</td>\n",
       "      <td>0.0</td>\n",
       "      <td>0.0</td>\n",
       "      <td>0.0</td>\n",
       "      <td>0.0</td>\n",
       "      <td>0.0</td>\n",
       "      <td>0.0</td>\n",
       "    </tr>\n",
       "    <tr>\n",
       "      <th>2021-06-01 00:01:00-08:00</th>\n",
       "      <td>-0.000034</td>\n",
       "      <td>0.0</td>\n",
       "      <td>0.0</td>\n",
       "      <td>0.0</td>\n",
       "      <td>0.0</td>\n",
       "      <td>0.0</td>\n",
       "      <td>0.0</td>\n",
       "    </tr>\n",
       "    <tr>\n",
       "      <th>2021-06-01 00:02:00-08:00</th>\n",
       "      <td>-0.000035</td>\n",
       "      <td>0.0</td>\n",
       "      <td>0.0</td>\n",
       "      <td>0.0</td>\n",
       "      <td>0.0</td>\n",
       "      <td>0.0</td>\n",
       "      <td>0.0</td>\n",
       "    </tr>\n",
       "    <tr>\n",
       "      <th>2021-06-01 00:03:00-08:00</th>\n",
       "      <td>-0.000036</td>\n",
       "      <td>0.0</td>\n",
       "      <td>0.0</td>\n",
       "      <td>0.0</td>\n",
       "      <td>0.0</td>\n",
       "      <td>0.0</td>\n",
       "      <td>0.0</td>\n",
       "    </tr>\n",
       "    <tr>\n",
       "      <th>2021-06-01 00:04:00-08:00</th>\n",
       "      <td>-0.000036</td>\n",
       "      <td>0.0</td>\n",
       "      <td>0.0</td>\n",
       "      <td>0.0</td>\n",
       "      <td>0.0</td>\n",
       "      <td>0.0</td>\n",
       "      <td>0.0</td>\n",
       "    </tr>\n",
       "    <tr>\n",
       "      <th>...</th>\n",
       "      <td>...</td>\n",
       "      <td>...</td>\n",
       "      <td>...</td>\n",
       "      <td>...</td>\n",
       "      <td>...</td>\n",
       "      <td>...</td>\n",
       "      <td>...</td>\n",
       "    </tr>\n",
       "    <tr>\n",
       "      <th>2021-06-01 23:55:00-08:00</th>\n",
       "      <td>-0.000026</td>\n",
       "      <td>0.0</td>\n",
       "      <td>0.0</td>\n",
       "      <td>0.0</td>\n",
       "      <td>0.0</td>\n",
       "      <td>0.0</td>\n",
       "      <td>0.0</td>\n",
       "    </tr>\n",
       "    <tr>\n",
       "      <th>2021-06-01 23:56:00-08:00</th>\n",
       "      <td>-0.000026</td>\n",
       "      <td>0.0</td>\n",
       "      <td>0.0</td>\n",
       "      <td>0.0</td>\n",
       "      <td>0.0</td>\n",
       "      <td>0.0</td>\n",
       "      <td>0.0</td>\n",
       "    </tr>\n",
       "    <tr>\n",
       "      <th>2021-06-01 23:57:00-08:00</th>\n",
       "      <td>-0.000026</td>\n",
       "      <td>0.0</td>\n",
       "      <td>0.0</td>\n",
       "      <td>0.0</td>\n",
       "      <td>0.0</td>\n",
       "      <td>0.0</td>\n",
       "      <td>0.0</td>\n",
       "    </tr>\n",
       "    <tr>\n",
       "      <th>2021-06-01 23:58:00-08:00</th>\n",
       "      <td>-0.000026</td>\n",
       "      <td>0.0</td>\n",
       "      <td>0.0</td>\n",
       "      <td>0.0</td>\n",
       "      <td>0.0</td>\n",
       "      <td>0.0</td>\n",
       "      <td>0.0</td>\n",
       "    </tr>\n",
       "    <tr>\n",
       "      <th>2021-06-01 23:59:00-08:00</th>\n",
       "      <td>-0.000024</td>\n",
       "      <td>0.0</td>\n",
       "      <td>0.0</td>\n",
       "      <td>0.0</td>\n",
       "      <td>0.0</td>\n",
       "      <td>0.0</td>\n",
       "      <td>0.0</td>\n",
       "    </tr>\n",
       "  </tbody>\n",
       "</table>\n",
       "<p>1437 rows × 7 columns</p>\n",
       "</div>"
      ],
      "text/plain": [
       "                               i_sc  v_oc  i_mp  v_mp  p_mp  i_x  i_xx\n",
       "2021-06-01 00:00:00-08:00 -0.000034   0.0   0.0   0.0   0.0  0.0   0.0\n",
       "2021-06-01 00:01:00-08:00 -0.000034   0.0   0.0   0.0   0.0  0.0   0.0\n",
       "2021-06-01 00:02:00-08:00 -0.000035   0.0   0.0   0.0   0.0  0.0   0.0\n",
       "2021-06-01 00:03:00-08:00 -0.000036   0.0   0.0   0.0   0.0  0.0   0.0\n",
       "2021-06-01 00:04:00-08:00 -0.000036   0.0   0.0   0.0   0.0  0.0   0.0\n",
       "...                             ...   ...   ...   ...   ...  ...   ...\n",
       "2021-06-01 23:55:00-08:00 -0.000026   0.0   0.0   0.0   0.0  0.0   0.0\n",
       "2021-06-01 23:56:00-08:00 -0.000026   0.0   0.0   0.0   0.0  0.0   0.0\n",
       "2021-06-01 23:57:00-08:00 -0.000026   0.0   0.0   0.0   0.0  0.0   0.0\n",
       "2021-06-01 23:58:00-08:00 -0.000026   0.0   0.0   0.0   0.0  0.0   0.0\n",
       "2021-06-01 23:59:00-08:00 -0.000024   0.0   0.0   0.0   0.0  0.0   0.0\n",
       "\n",
       "[1437 rows x 7 columns]"
      ]
     },
     "execution_count": 30,
     "metadata": {},
     "output_type": "execute_result"
    }
   ],
   "source": [
    "# Access the DC power output\n",
    "mc.results.dc"
   ]
  },
  {
   "cell_type": "code",
   "execution_count": 31,
   "metadata": {},
   "outputs": [
    {
     "data": {
      "text/plain": [
       "2021-06-01 00:00:00-08:00   -0.09\n",
       "2021-06-01 00:01:00-08:00   -0.09\n",
       "2021-06-01 00:02:00-08:00   -0.09\n",
       "2021-06-01 00:03:00-08:00   -0.09\n",
       "2021-06-01 00:04:00-08:00   -0.09\n",
       "                             ... \n",
       "2021-06-01 23:55:00-08:00   -0.09\n",
       "2021-06-01 23:56:00-08:00   -0.09\n",
       "2021-06-01 23:57:00-08:00   -0.09\n",
       "2021-06-01 23:58:00-08:00   -0.09\n",
       "2021-06-01 23:59:00-08:00   -0.09\n",
       "Length: 1437, dtype: float64"
      ]
     },
     "execution_count": 31,
     "metadata": {},
     "output_type": "execute_result"
    }
   ],
   "source": [
    "# Access the AC power output\n",
    "mc.results.ac"
   ]
  },
  {
   "cell_type": "markdown",
   "metadata": {},
   "source": [
    "**Analyzing and visualizing the results:**\n",
    "\n",
    "With all the set of results, we can analyze and visualize the results of the PV system."
   ]
  },
  {
   "cell_type": "code",
   "execution_count": 32,
   "metadata": {},
   "outputs": [
    {
     "data": {
      "image/png": "[encoded data removed]",
      "text/plain": [
       "<Figure size 504x288 with 1 Axes>"
      ]
     },
     "metadata": {
      "needs_background": "light"
     },
     "output_type": "display_data"
    }
   ],
   "source": [
    "from matplotlib.dates import DateFormatter\n",
    "\n",
    "# Define labels of variables to plot and colors \n",
    "irrad_labels = ['ghi', 'dni', 'dhi']\n",
    "poa_labels = ['poa_global', 'poa_direct', 'poa_diffuse']\n",
    "colors = ['green', 'orange', 'blue']\n",
    "\n",
    "# Plot of Irradiance Variables\n",
    "fig, ax = plt.subplots(figsize=(7, 4))\n",
    "\n",
    "for i in range(len(irrad_labels)):\n",
    "    mc.results.weather[irrad_labels[i]].plot(label=irrad_labels[i].upper(), color=colors[i])\n",
    "    ax = mc.results.total_irrad[poa_labels[i]].plot(label=poa_labels[i].upper().replace('_', ' '), color=colors[i], ls='--')\n",
    "ax.xaxis.set_major_formatter(DateFormatter(\"%H:%M\"))\n",
    "ax.set_ylabel('Irradiance [W/m$^2$]')\n",
    "ax.set_xlabel('UTC Time [HH:MM]')\n",
    "ax.set_title('Irradiance Components')\n",
    "plt.legend(bbox_to_anchor=(1.02,1))\n",
    "plt.tight_layout()\n",
    "plt.show() "
   ]
  },
  {
   "cell_type": "code",
   "execution_count": 33,
   "metadata": {},
   "outputs": [
    {
     "data": {
      "image/png": "[encoded data removed]",
      "text/plain": [
       "<Figure size 504x216 with 1 Axes>"
      ]
     },
     "metadata": {
      "needs_background": "light"
     },
     "output_type": "display_data"
    }
   ],
   "source": [
    "# Plot of Power Output \n",
    "fig, ax = plt.subplots(figsize=(7, 3))\n",
    "\n",
    "mc.results.dc['p_mp'].plot(label='DC power')\n",
    "ax = mc.results.ac.plot(label='AC power')\n",
    "ax.xaxis.set_major_formatter(DateFormatter(\"%H:%M\"))\n",
    "ax.set_ylabel('Power [W]')\n",
    "ax.set_xlabel('UTC Time [HH:MM]')\n",
    "ax.set_title('Power Output of PV System')\n",
    "plt.legend()\n",
    "plt.tight_layout()\n",
    "plt.show() "
   ]
  },
  {
   "cell_type": "markdown",
   "metadata": {},
   "source": [
    "With the power output data, it is possible to assess the amount of solar energy generated in the period of time assessed:"
   ]
  },
  {
   "cell_type": "code",
   "execution_count": 34,
   "metadata": {},
   "outputs": [
    {
     "name": "stdout",
     "output_type": "stream",
     "text": [
      "***************  Daily Production  *************** \n",
      " ------------------------------------------------\n",
      "\tPOA irradiation:  8.11 kWh\n",
      "\tInstalled PV Capacity:  175.09 W\n",
      "\tDC generation: 1.20 kWh ( 6.88 kWh/kWp)\n",
      "\tAC generation: 1.15 kWh ( 6.55 kWh/kWp)\n",
      "--------------------------------------------------\n"
     ]
    }
   ],
   "source": [
    "# Estimate solar energy available and generated\n",
    "poa_energy = mc.results.total_irrad['poa_global'].sum()*(1/60)/1000 # Daily POA irradiation in kWh\n",
    "dc_energy = mc.results.dc['p_mp'].sum()*(1/60)/1000 # Daily DC energy in kWh\n",
    "ac_energy = mc.results.ac.sum()*(1/60)/1000 # Daily AC energy in kWh\n",
    "\n",
    "print('*'*15, ' Daily Production ','*'*15,'\\n','-'*48) \n",
    "print('\\tPOA irradiation: ', \"%.2f\" % poa_energy, 'kWh')\n",
    "print('\\tInstalled PV Capacity: ', \"%.2f\" % module_data['STC'], 'W')\n",
    "print('\\tDC generation:', \"%.2f\" % dc_energy, 'kWh (','%.2f'%(dc_energy*1000/module_data['STC']), 'kWh/kWp)')\n",
    "print('\\tAC generation:', \"%.2f\" % ac_energy, 'kWh (','%.2f'%(ac_energy*1000/module_data['STC']), 'kWh/kWp)')\n",
    "print('-'*50)"
   ]
  },
  {
   "cell_type": "markdown",
   "metadata": {},
   "source": [
    "## Section Summary\n",
    "This section has looked at the **conversion from irradiance to power output in a PV system**. Multiple examples have been presented illustrating: \n",
    "- how to access data of PV components such as PV modules and inverters; \n",
    "- how to estimate and visualize the I-V curve of a PV module under certain irradiance and temperature conditions; and\n",
    "- how to estimate and visualize the DC and AC power output from irradiance data. \n",
    "\n",
    "The code provided in the examples can help you as a starting point to assess other solar systems by adapting the characteristics and particularising to your case study."
   ]
  },
  {
   "cell_type": "markdown",
   "metadata": {},
   "source": [
    "## References\n",
    "Vignola, F.; Andreas, A.; (2013). University of Oregon: GPS-based Precipitable Water Vapor (Data); NREL Report No. DA-5500-64452. http://dx.doi.org/10.7799/1183467"
   ]
  }
 ],
 "metadata": {
  "kernelspec": {
   "display_name": "Python 3",
   "language": "python",
   "name": "python3"
  },
  "language_info": {
   "codemirror_mode": {
    "name": "ipython",
    "version": 3
   },
   "file_extension": ".py",
   "mimetype": "text/x-python",
   "name": "python",
   "nbconvert_exporter": "python",
   "pygments_lexer": "ipython3",
   "version": "3.8.8"
  }
 },
 "nbformat": 4,
 "nbformat_minor": 2
}
